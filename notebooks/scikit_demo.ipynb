{
 "cells": [
  {
   "cell_type": "code",
   "execution_count": 1,
   "metadata": {},
   "outputs": [],
   "source": [
    "import sys\n",
    "sys.path.append('..')\n",
    "import os\n",
    "import dotenv\n",
    "import mysql.connector\n",
    "import numpy as np\n",
    "import matplotlib.pyplot as plt\n",
    "import pandas as pd"
   ]
  },
  {
   "cell_type": "markdown",
   "metadata": {},
   "source": [
    "#### Connection to remote database"
   ]
  },
  {
   "cell_type": "code",
   "execution_count": null,
   "metadata": {},
   "outputs": [],
   "source": [
    "dict_data_frame = {1: ('df_regresion_nolineal_1','x','y'),\n",
    "                   2: ('df_regresion_nolineal_2','x','y'),\n",
    "                   3: ('df_regresion_nolineal_3','x','y'),\n",
    "                   4: ('temp','fecha','temp')}\n",
    "desired_dataset = 1"
   ]
  },
  {
   "cell_type": "code",
   "execution_count": 3,
   "metadata": {},
   "outputs": [],
   "source": [
    "connection = mysql.connector.connect(\n",
    "    host=os.getenv('DB_HOST'),\n",
    "    user=os.getenv('DB_USER'),\n",
    "    password=os.getenv('DB_PASSWORD'),\n",
    "    database=os.getenv('DB_NAME')\n",
    ")"
   ]
  },
  {
   "cell_type": "code",
   "execution_count": 4,
   "metadata": {},
   "outputs": [],
   "source": [
    "cursor = connection.cursor()\n",
    "cursor.execute('SELECT {}, {} FROM {}'.format(dict_data_frame[desired_dataset][1], dict_data_frame[desired_dataset][2],dict_data_frame[desired_dataset][0]))\n",
    "datos = cursor.fetchall()\n",
    "cursor.close()\n",
    "connection.close()"
   ]
  },
  {
   "cell_type": "code",
   "execution_count": 6,
   "metadata": {},
   "outputs": [
    {
     "name": "stdout",
     "output_type": "stream",
     "text": [
      "          x         y\n",
      "0  -5.00000 -14.52980\n",
      "1  -4.89899 -13.14410\n",
      "2  -4.79798  -8.96406\n",
      "3  -4.69697 -10.49730\n",
      "4  -4.59596  -9.98285\n",
      "..      ...       ...\n",
      "95  4.59596  36.17240\n",
      "96  4.69697  40.20740\n",
      "97  4.79798  40.21700\n",
      "98  4.89899  41.38480\n",
      "99  5.00000  43.17840\n",
      "\n",
      "[100 rows x 2 columns]\n"
     ]
    }
   ],
   "source": [
    "data_frame = pd.DataFrame(datos, columns=[dict_data_frame[desired_dataset][1], dict_data_frame[desired_dataset][2]])\n",
    "print(data_frame)"
   ]
  },
  {
   "cell_type": "code",
   "execution_count": 7,
   "metadata": {},
   "outputs": [
    {
     "data": {
      "text/plain": [
       "((100, 1), (100, 1))"
      ]
     },
     "execution_count": 7,
     "metadata": {},
     "output_type": "execute_result"
    }
   ],
   "source": [
    "y = data_frame[dict_data_frame[desired_dataset][2]].to_numpy().reshape(-1, 1)   \n",
    "x = data_frame[dict_data_frame[desired_dataset][1]].to_numpy().reshape(-1, 1)\n",
    "x.shape, y.shape"
   ]
  },
  {
   "cell_type": "code",
   "execution_count": 8,
   "metadata": {},
   "outputs": [],
   "source": [
    "# Gaussian Kernel\n",
    "def gaussian_kernel(x, y, sigma=1):\n",
    "    return np.exp(-np.linalg.norm(x-y)**2 / (2 * (sigma ** 2)))\n",
    "\n",
    "# Polynomial Kernel\n",
    "def polynomial_kernel(x, y, p=2):\n",
    "    return (1 + np.dot(x, y)) ** p\n",
    "\n",
    "# Linear Kernel\n",
    "def linear_kernel(x, y):\n",
    "    return np.dot(x, y)\n",
    "\n",
    "# Logistic Kernel\n",
    "def logistic_kernel(x, y):\n",
    "    return np.tanh(np.dot(x, y))"
   ]
  },
  {
   "cell_type": "code",
   "execution_count": 9,
   "metadata": {},
   "outputs": [
    {
     "ename": "NameError",
     "evalue": "name 'kr' is not defined",
     "output_type": "error",
     "traceback": [
      "\u001b[1;31m---------------------------------------------------------------------------\u001b[0m",
      "\u001b[1;31mNameError\u001b[0m                                 Traceback (most recent call last)",
      "Cell \u001b[1;32mIn[9], line 2\u001b[0m\n\u001b[0;32m      1\u001b[0m X_test \u001b[38;5;241m=\u001b[39m np\u001b[38;5;241m.\u001b[39mlinspace(\u001b[38;5;241m-\u001b[39m\u001b[38;5;241m4\u001b[39m, \u001b[38;5;241m4\u001b[39m, \u001b[38;5;241m100\u001b[39m)\u001b[38;5;241m.\u001b[39mreshape(\u001b[38;5;241m-\u001b[39m\u001b[38;5;241m1\u001b[39m, \u001b[38;5;241m1\u001b[39m)\n\u001b[1;32m----> 2\u001b[0m prediciones \u001b[38;5;241m=\u001b[39m \u001b[43mkr\u001b[49m\u001b[38;5;241m.\u001b[39mkernel_ridge(x,y,gaussian_kernel,\u001b[38;5;241m1\u001b[39m,X_test)\n\u001b[0;32m      4\u001b[0m kr\u001b[38;5;241m.\u001b[39mplot_kernel_ridge(x, y, X_test,prediciones)\n",
      "\u001b[1;31mNameError\u001b[0m: name 'kr' is not defined"
     ]
    }
   ],
   "source": [
    "X_test = np.linspace(-4, 4, 100).reshape(-1, 1)\n",
    "prediciones = kr.kernel_ridge(x,y,gaussian_kernel,1,X_test)\n",
    "\n",
    "kr.plot_kernel_ridge(x, y, X_test,prediciones)"
   ]
  }
 ],
 "metadata": {
  "kernelspec": {
   "display_name": "Python (default)",
   "language": "python",
   "name": "default_venv"
  },
  "language_info": {
   "codemirror_mode": {
    "name": "ipython",
    "version": 3
   },
   "file_extension": ".py",
   "mimetype": "text/x-python",
   "name": "python",
   "nbconvert_exporter": "python",
   "pygments_lexer": "ipython3",
   "version": "3.13.2"
  }
 },
 "nbformat": 4,
 "nbformat_minor": 2
}
