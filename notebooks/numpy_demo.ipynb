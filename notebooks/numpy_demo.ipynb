{
 "cells": [
  {
   "cell_type": "markdown",
   "metadata": {},
   "source": [
    "# Kernel Ridge Regression Analysis\n",
    "\n",
    "This Jupyter Notebook demonstrates the process of performing Kernel Ridge Regression on a dataset retrieved from a remote database. The notebook includes the following steps:\n",
    "\n",
    "1. **Importing Necessary Libraries**: Importing essential libraries and modules required for data manipulation, database connection, and kernel ridge regression.\n",
    "2. **Database Connection**: Establishing a connection to a remote database to fetch the desired dataset.\n",
    "3. **Data Preparation**: Loading the dataset into a pandas DataFrame and preparing the data for regression analysis.\n",
    "4. **Kernel Functions**: Defining various kernel functions such as Gaussian, Polynomial, Linear, and Logistic kernels.\n",
    "5. **Kernel Ridge Regression**: Applying Kernel Ridge Regression using the defined kernel functions and visualizing the results.\n",
    "\n",
    "This notebook is designed to provide a comprehensive guide for performing Kernel Ridge Regression, making it easier for readers to understand and implement the process in their own projects."
   ]
  },
  {
   "cell_type": "code",
   "execution_count": null,
   "metadata": {},
   "outputs": [],
   "source": [
    "import sys\n",
    "sys.path.append('..')\n",
    "import os\n",
    "import dotenv\n",
    "import mysql.connector\n",
    "import numpy as np\n",
    "import matplotlib.pyplot as plt\n",
    "import pandas as pd\n",
    "import src.kernel_ridge as kr"
   ]
  },
  {
   "cell_type": "code",
   "execution_count": null,
   "metadata": {},
   "outputs": [],
   "source": [
    "dotenv.load_dotenv()"
   ]
  },
  {
   "cell_type": "markdown",
   "metadata": {},
   "source": [
    "#### Connection to remote database"
   ]
  },
  {
   "cell_type": "code",
   "execution_count": null,
   "metadata": {},
   "outputs": [],
   "source": [
    "dict_data_frame = {1: ('df_regresion_nolineal_1','x','y'),\n",
    "                   2: ('df_regresion_nolineal_2','x','y'),\n",
    "                   3: ('df_regresion_nolineal_3','x','y'),\n",
    "                   4: ('temp','fecha','temp'),}\n",
    "desired_dataset = 4"
   ]
  },
  {
   "cell_type": "code",
   "execution_count": null,
   "metadata": {},
   "outputs": [],
   "source": [
    "connection = mysql.connector.connect(\n",
    "    host=os.getenv('DB_HOST'),\n",
    "    user=os.getenv('DB_USER'),\n",
    "    password=os.getenv('DB_PASSWORD'),\n",
    "    database=os.getenv('DB_NAME')\n",
    ")"
   ]
  },
  {
   "cell_type": "code",
   "execution_count": null,
   "metadata": {},
   "outputs": [],
   "source": [
    "cursor = connection.cursor()\n",
    "cursor.execute('SELECT * FROM {}'.format(\"sistemas_inteligentes_iv.\"+ dict_data_frame[desired_dataset][0]))\n",
    "datos = cursor.fetchall()\n",
    "cursor.close()\n",
    "connection.close()"
   ]
  },
  {
   "cell_type": "code",
   "execution_count": null,
   "metadata": {},
   "outputs": [],
   "source": [
    "data_frame = pd.DataFrame(datos, columns=['id', dict_data_frame[desired_dataset][1], dict_data_frame[desired_dataset][2]])\n",
    "data_frame.drop(columns=['id'], inplace=True)\n",
    "print(data_frame)"
   ]
  },
  {
   "cell_type": "code",
   "execution_count": null,
   "metadata": {},
   "outputs": [],
   "source": [
    "y = data_frame[dict_data_frame[desired_dataset][2]].to_numpy()\n",
    "x = data_frame[dict_data_frame[desired_dataset][1]].to_numpy().reshape(-1, 1)\n",
    "\n",
    "if desired_dataset == 4:\n",
    "    x = x[0:-1:4]\n",
    "    y = y[0:-1:4]\n",
    "x.shape, y.shape"
   ]
  },
  {
   "cell_type": "code",
   "execution_count": null,
   "metadata": {},
   "outputs": [],
   "source": [
    "data_frame = pd.read_csv(r\"C:\\github\\kernel-ridge\\datasets\\temp.csv\")\n",
    "\n",
    "x = data_frame['x'].to_numpy().reshape(-1,1)\n",
    "y = data_frame['y'].to_numpy()\n",
    "\n",
    "x = x[0:-1:10]\n",
    "y = y[0:-1:10]"
   ]
  },
  {
   "cell_type": "code",
   "execution_count": null,
   "metadata": {},
   "outputs": [],
   "source": [
    "x_std_dev = np.std(x)\n",
    "x_mean = np.mean(x)\n",
    "x = (x-x_mean)/x_std_dev\n",
    "\n",
    "y_std_dev = np.std(y)\n",
    "y_mean = np.mean(y)\n",
    "y = (y-y_mean)/y_std_dev\n",
    "\n",
    "print(x_mean)"
   ]
  },
  {
   "cell_type": "code",
   "execution_count": null,
   "metadata": {},
   "outputs": [],
   "source": [
    "X_test = np.linspace(0,20000 , 100).reshape(-1, 1)\n",
    "X_test = (X_test-x_mean)/x_std_dev\n",
    "\n",
    "name_array = ['LINEAR','RBF', 'POLY', 'SIGMOID'] \n",
    "name = name_array[3]\n",
    "\n",
    "predicciones = kr.kernel_ridge_regression(x, y, kernel=name, param=0.00001, reg=0.1, X_test=X_test, add_bias=True)\n",
    "\n",
    "x = (x*x_std_dev)+x_mean\n",
    "y = (y*y_std_dev)+y_mean\n",
    "X_test = (X_test*x_std_dev)+x_mean\n",
    "predicciones = (predicciones*y_std_dev)+y_mean\n",
    "kr.plot_kernel_ridge(x, y, X_test,predicciones,name)"
   ]
  }
 ],
 "metadata": {
  "kernelspec": {
   "display_name": "Python 3",
   "language": "python",
   "name": "python3"
  },
  "language_info": {
   "codemirror_mode": {
    "name": "ipython",
    "version": 3
   },
   "file_extension": ".py",
   "mimetype": "text/x-python",
   "name": "python",
   "nbconvert_exporter": "python",
   "pygments_lexer": "ipython3",
   "version": "3.11.9"
  }
 },
 "nbformat": 4,
 "nbformat_minor": 2
}
